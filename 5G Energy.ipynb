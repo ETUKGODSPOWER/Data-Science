{
 "cells": [
  {
   "cell_type": "code",
   "execution_count": 1,
   "id": "9ed738af-f774-4b7e-9da5-86e20f627e97",
   "metadata": {},
   "outputs": [
    {
     "name": "stdout",
     "output_type": "stream",
     "text": [
      "Requirement already satisfied: category_encoders in c:\\users\\dell\\anaconda3\\lib\\site-packages (2.6.3)\n",
      "Requirement already satisfied: numpy>=1.14.0 in c:\\users\\dell\\anaconda3\\lib\\site-packages (from category_encoders) (1.26.4)\n",
      "Requirement already satisfied: scikit-learn>=0.20.0 in c:\\users\\dell\\anaconda3\\lib\\site-packages (from category_encoders) (1.2.2)\n",
      "Requirement already satisfied: scipy>=1.0.0 in c:\\users\\dell\\anaconda3\\lib\\site-packages (from category_encoders) (1.11.4)\n",
      "Requirement already satisfied: statsmodels>=0.9.0 in c:\\users\\dell\\anaconda3\\lib\\site-packages (from category_encoders) (0.14.0)\n",
      "Requirement already satisfied: pandas>=1.0.5 in c:\\users\\dell\\anaconda3\\lib\\site-packages (from category_encoders) (2.1.4)\n",
      "Requirement already satisfied: patsy>=0.5.1 in c:\\users\\dell\\anaconda3\\lib\\site-packages (from category_encoders) (0.5.3)\n",
      "Requirement already satisfied: python-dateutil>=2.8.2 in c:\\users\\dell\\anaconda3\\lib\\site-packages (from pandas>=1.0.5->category_encoders) (2.8.2)\n",
      "Requirement already satisfied: pytz>=2020.1 in c:\\users\\dell\\anaconda3\\lib\\site-packages (from pandas>=1.0.5->category_encoders) (2023.3.post1)\n",
      "Requirement already satisfied: tzdata>=2022.1 in c:\\users\\dell\\anaconda3\\lib\\site-packages (from pandas>=1.0.5->category_encoders) (2023.3)\n",
      "Requirement already satisfied: six in c:\\users\\dell\\anaconda3\\lib\\site-packages (from patsy>=0.5.1->category_encoders) (1.16.0)\n",
      "Requirement already satisfied: joblib>=1.1.1 in c:\\users\\dell\\anaconda3\\lib\\site-packages (from scikit-learn>=0.20.0->category_encoders) (1.2.0)\n",
      "Requirement already satisfied: threadpoolctl>=2.0.0 in c:\\users\\dell\\anaconda3\\lib\\site-packages (from scikit-learn>=0.20.0->category_encoders) (2.2.0)\n",
      "Requirement already satisfied: packaging>=21.3 in c:\\users\\dell\\anaconda3\\lib\\site-packages (from statsmodels>=0.9.0->category_encoders) (23.1)\n"
     ]
    }
   ],
   "source": [
    "!pip install category_encoders"
   ]
  },
  {
   "cell_type": "code",
   "execution_count": 2,
   "id": "6e25c33e-55a3-48ef-a65f-d4034e80ab57",
   "metadata": {},
   "outputs": [],
   "source": [
    "import pandas as pd\n",
    "import numpy as np\n",
    "import seaborn as sns\n",
    "from sklearn.preprocessing import LabelEncoder\n",
    "from sklearn.model_selection import train_test_split, RandomizedSearchCV\n",
    "from sklearn.linear_model import LinearRegression, LogisticRegression\n",
    "from sklearn.ensemble import RandomForestRegressor,GradientBoostingRegressor\n",
    "from sklearn.metrics import accuracy_score, mean_squared_error, mean_absolute_error\n",
    "from sklearn.svm import SVR\n",
    "from scipy.stats import uniform, randint\n",
    "from category_encoders import LeaveOneOutEncoder"
   ]
  },
  {
   "cell_type": "markdown",
   "id": "5dd776fb-7ea3-45bc-8220-1f618de3a7d2",
   "metadata": {},
   "source": [
    "# Supervised Learning Regression Checkpoint"
   ]
  },
  {
   "cell_type": "markdown",
   "id": "59031489-36c8-4870-8f21-543fe0b52158",
   "metadata": {},
   "source": [
    "### 5G-Energy consumption"
   ]
  },
  {
   "cell_type": "markdown",
   "id": "0cc03bb5-6234-4bec-be85-dbab2aa2901b",
   "metadata": {},
   "source": [
    "In this checkpoint, I am going to work on the '5G-Energy consumption' dataset that was provided by the international telecommunication union (ITU) in 2023 as part of a global challenge or competition for data scientists all over the world to solve the 5G energy consumption modelling using machine learning techniques.\n",
    "\n",
    "Checkpoint problematic : Network operational expenditure (OPEX) already accounts for around 25 percent of the total telecom operator’s cost, and 90 percent of it is spent on large energy bills. More than 70 percent of this energy is estimated to be consumed by the radio access network (RAN), particularly by the base stations (BSs). Thus, the objective is to build and train a ML model to estimate the energy consumed by different 5G base stations taking into consideration the impact of various engineering configurations, traffic conditions, and energy-saving methods.\n",
    "\n",
    "Dataset description : This dataset is derived from the original copy and simplified for learning purposes. It includes cell-level traffic statistics of 4G/5G sites collected on different days.\n"
   ]
  },
  {
   "cell_type": "code",
   "execution_count": 3,
   "id": "1f9bd23a-3bf6-42ff-9b6c-0d85e52a9fc7",
   "metadata": {},
   "outputs": [],
   "source": [
    "energy = pd.read_csv('5G_energy_consumption_dataset.csv')"
   ]
  },
  {
   "cell_type": "code",
   "execution_count": 4,
   "id": "e1246e83-5ebb-4e71-9fbb-f4a8ae396980",
   "metadata": {},
   "outputs": [
    {
     "data": {
      "text/html": [
       "<div>\n",
       "<style scoped>\n",
       "    .dataframe tbody tr th:only-of-type {\n",
       "        vertical-align: middle;\n",
       "    }\n",
       "\n",
       "    .dataframe tbody tr th {\n",
       "        vertical-align: top;\n",
       "    }\n",
       "\n",
       "    .dataframe thead th {\n",
       "        text-align: right;\n",
       "    }\n",
       "</style>\n",
       "<table border=\"1\" class=\"dataframe\">\n",
       "  <thead>\n",
       "    <tr style=\"text-align: right;\">\n",
       "      <th></th>\n",
       "      <th>Time</th>\n",
       "      <th>BS</th>\n",
       "      <th>Energy</th>\n",
       "      <th>load</th>\n",
       "      <th>ESMODE</th>\n",
       "      <th>TXpower</th>\n",
       "    </tr>\n",
       "  </thead>\n",
       "  <tbody>\n",
       "    <tr>\n",
       "      <th>0</th>\n",
       "      <td>20230101 010000</td>\n",
       "      <td>B_0</td>\n",
       "      <td>64.275037</td>\n",
       "      <td>0.487936</td>\n",
       "      <td>0.0</td>\n",
       "      <td>7.101719</td>\n",
       "    </tr>\n",
       "    <tr>\n",
       "      <th>1</th>\n",
       "      <td>20230101 020000</td>\n",
       "      <td>B_0</td>\n",
       "      <td>55.904335</td>\n",
       "      <td>0.344468</td>\n",
       "      <td>0.0</td>\n",
       "      <td>7.101719</td>\n",
       "    </tr>\n",
       "    <tr>\n",
       "      <th>2</th>\n",
       "      <td>20230101 030000</td>\n",
       "      <td>B_0</td>\n",
       "      <td>57.698057</td>\n",
       "      <td>0.193766</td>\n",
       "      <td>0.0</td>\n",
       "      <td>7.101719</td>\n",
       "    </tr>\n",
       "    <tr>\n",
       "      <th>3</th>\n",
       "      <td>20230101 040000</td>\n",
       "      <td>B_0</td>\n",
       "      <td>55.156951</td>\n",
       "      <td>0.222383</td>\n",
       "      <td>0.0</td>\n",
       "      <td>7.101719</td>\n",
       "    </tr>\n",
       "    <tr>\n",
       "      <th>4</th>\n",
       "      <td>20230101 050000</td>\n",
       "      <td>B_0</td>\n",
       "      <td>56.053812</td>\n",
       "      <td>0.175436</td>\n",
       "      <td>0.0</td>\n",
       "      <td>7.101719</td>\n",
       "    </tr>\n",
       "  </tbody>\n",
       "</table>\n",
       "</div>"
      ],
      "text/plain": [
       "              Time   BS     Energy      load  ESMODE   TXpower\n",
       "0  20230101 010000  B_0  64.275037  0.487936     0.0  7.101719\n",
       "1  20230101 020000  B_0  55.904335  0.344468     0.0  7.101719\n",
       "2  20230101 030000  B_0  57.698057  0.193766     0.0  7.101719\n",
       "3  20230101 040000  B_0  55.156951  0.222383     0.0  7.101719\n",
       "4  20230101 050000  B_0  56.053812  0.175436     0.0  7.101719"
      ]
     },
     "execution_count": 4,
     "metadata": {},
     "output_type": "execute_result"
    }
   ],
   "source": [
    "energy.head()"
   ]
  },
  {
   "cell_type": "code",
   "execution_count": 5,
   "id": "b923711b-60e6-47af-8e6f-7991c6be498f",
   "metadata": {},
   "outputs": [
    {
     "data": {
      "text/plain": [
       "Time       0\n",
       "BS         0\n",
       "Energy     0\n",
       "load       0\n",
       "ESMODE     0\n",
       "TXpower    0\n",
       "dtype: int64"
      ]
     },
     "execution_count": 5,
     "metadata": {},
     "output_type": "execute_result"
    }
   ],
   "source": [
    "energy.isnull().sum()"
   ]
  },
  {
   "cell_type": "code",
   "execution_count": 6,
   "id": "2a8701a7-f2b8-42f2-9f6b-64aacca11b51",
   "metadata": {},
   "outputs": [
    {
     "data": {
      "text/plain": [
       "0"
      ]
     },
     "execution_count": 6,
     "metadata": {},
     "output_type": "execute_result"
    }
   ],
   "source": [
    "energy.duplicated().sum()"
   ]
  },
  {
   "cell_type": "code",
   "execution_count": 7,
   "id": "5a748e26-5f78-479f-b267-d3e4b6f1bc07",
   "metadata": {},
   "outputs": [
    {
     "name": "stdout",
     "output_type": "stream",
     "text": [
      "<class 'pandas.core.frame.DataFrame'>\n",
      "RangeIndex: 92629 entries, 0 to 92628\n",
      "Data columns (total 6 columns):\n",
      " #   Column   Non-Null Count  Dtype  \n",
      "---  ------   --------------  -----  \n",
      " 0   Time     92629 non-null  object \n",
      " 1   BS       92629 non-null  object \n",
      " 2   Energy   92629 non-null  float64\n",
      " 3   load     92629 non-null  float64\n",
      " 4   ESMODE   92629 non-null  float64\n",
      " 5   TXpower  92629 non-null  float64\n",
      "dtypes: float64(4), object(2)\n",
      "memory usage: 4.2+ MB\n"
     ]
    }
   ],
   "source": [
    "energy.info()"
   ]
  },
  {
   "cell_type": "markdown",
   "id": "9d290192-b8ce-4b86-b9c3-30e6619bb0c3",
   "metadata": {},
   "source": [
    "### Change Time Column Data Type to Date Time"
   ]
  },
  {
   "cell_type": "code",
   "execution_count": 8,
   "id": "424a8283-eb6e-4cd2-a180-4a151c164137",
   "metadata": {},
   "outputs": [],
   "source": [
    "energy['Time'] = pd.to_datetime(energy['Time'])"
   ]
  },
  {
   "cell_type": "markdown",
   "id": "6dc1ad6a-ba16-43bf-805c-2647eaf48399",
   "metadata": {},
   "source": [
    "### Extract Hour since in your correlation it had a weak positive correlation"
   ]
  },
  {
   "cell_type": "code",
   "execution_count": 9,
   "id": "0999af22-5214-440b-8579-60fdeb837625",
   "metadata": {},
   "outputs": [],
   "source": [
    "energy['Hour'] = pd.to_datetime(energy['Time']).dt.hour"
   ]
  },
  {
   "cell_type": "markdown",
   "id": "493b634a-e4c4-4711-89f7-6a062e10f543",
   "metadata": {},
   "source": [
    "### Extract Month, and Day to check correlation"
   ]
  },
  {
   "cell_type": "code",
   "execution_count": 10,
   "id": "69ef1bdd-b510-404a-a527-b267e6ae132a",
   "metadata": {},
   "outputs": [],
   "source": [
    "energy['Month'] = pd.to_datetime(energy['Time']).dt.month\n",
    "energy['Day'] = pd.to_datetime(energy['Time']).dt.day"
   ]
  },
  {
   "cell_type": "code",
   "execution_count": 11,
   "id": "293c5802-89ed-408c-9219-bf8f0ebd574c",
   "metadata": {},
   "outputs": [
    {
     "data": {
      "text/html": [
       "<div>\n",
       "<style scoped>\n",
       "    .dataframe tbody tr th:only-of-type {\n",
       "        vertical-align: middle;\n",
       "    }\n",
       "\n",
       "    .dataframe tbody tr th {\n",
       "        vertical-align: top;\n",
       "    }\n",
       "\n",
       "    .dataframe thead th {\n",
       "        text-align: right;\n",
       "    }\n",
       "</style>\n",
       "<table border=\"1\" class=\"dataframe\">\n",
       "  <thead>\n",
       "    <tr style=\"text-align: right;\">\n",
       "      <th></th>\n",
       "      <th>Time</th>\n",
       "      <th>BS</th>\n",
       "      <th>Energy</th>\n",
       "      <th>load</th>\n",
       "      <th>ESMODE</th>\n",
       "      <th>TXpower</th>\n",
       "      <th>Hour</th>\n",
       "      <th>Month</th>\n",
       "      <th>Day</th>\n",
       "    </tr>\n",
       "  </thead>\n",
       "  <tbody>\n",
       "    <tr>\n",
       "      <th>0</th>\n",
       "      <td>2023-01-01 01:00:00</td>\n",
       "      <td>B_0</td>\n",
       "      <td>64.275037</td>\n",
       "      <td>0.487936</td>\n",
       "      <td>0.0</td>\n",
       "      <td>7.101719</td>\n",
       "      <td>1</td>\n",
       "      <td>1</td>\n",
       "      <td>1</td>\n",
       "    </tr>\n",
       "    <tr>\n",
       "      <th>1</th>\n",
       "      <td>2023-01-01 02:00:00</td>\n",
       "      <td>B_0</td>\n",
       "      <td>55.904335</td>\n",
       "      <td>0.344468</td>\n",
       "      <td>0.0</td>\n",
       "      <td>7.101719</td>\n",
       "      <td>2</td>\n",
       "      <td>1</td>\n",
       "      <td>1</td>\n",
       "    </tr>\n",
       "    <tr>\n",
       "      <th>2</th>\n",
       "      <td>2023-01-01 03:00:00</td>\n",
       "      <td>B_0</td>\n",
       "      <td>57.698057</td>\n",
       "      <td>0.193766</td>\n",
       "      <td>0.0</td>\n",
       "      <td>7.101719</td>\n",
       "      <td>3</td>\n",
       "      <td>1</td>\n",
       "      <td>1</td>\n",
       "    </tr>\n",
       "    <tr>\n",
       "      <th>3</th>\n",
       "      <td>2023-01-01 04:00:00</td>\n",
       "      <td>B_0</td>\n",
       "      <td>55.156951</td>\n",
       "      <td>0.222383</td>\n",
       "      <td>0.0</td>\n",
       "      <td>7.101719</td>\n",
       "      <td>4</td>\n",
       "      <td>1</td>\n",
       "      <td>1</td>\n",
       "    </tr>\n",
       "    <tr>\n",
       "      <th>4</th>\n",
       "      <td>2023-01-01 05:00:00</td>\n",
       "      <td>B_0</td>\n",
       "      <td>56.053812</td>\n",
       "      <td>0.175436</td>\n",
       "      <td>0.0</td>\n",
       "      <td>7.101719</td>\n",
       "      <td>5</td>\n",
       "      <td>1</td>\n",
       "      <td>1</td>\n",
       "    </tr>\n",
       "  </tbody>\n",
       "</table>\n",
       "</div>"
      ],
      "text/plain": [
       "                 Time   BS     Energy      load  ESMODE   TXpower  Hour  \\\n",
       "0 2023-01-01 01:00:00  B_0  64.275037  0.487936     0.0  7.101719     1   \n",
       "1 2023-01-01 02:00:00  B_0  55.904335  0.344468     0.0  7.101719     2   \n",
       "2 2023-01-01 03:00:00  B_0  57.698057  0.193766     0.0  7.101719     3   \n",
       "3 2023-01-01 04:00:00  B_0  55.156951  0.222383     0.0  7.101719     4   \n",
       "4 2023-01-01 05:00:00  B_0  56.053812  0.175436     0.0  7.101719     5   \n",
       "\n",
       "   Month  Day  \n",
       "0      1    1  \n",
       "1      1    1  \n",
       "2      1    1  \n",
       "3      1    1  \n",
       "4      1    1  "
      ]
     },
     "execution_count": 11,
     "metadata": {},
     "output_type": "execute_result"
    }
   ],
   "source": [
    "energy.head()"
   ]
  },
  {
   "cell_type": "markdown",
   "id": "db50c6f0-3d54-4ad3-b869-cab7cabdb048",
   "metadata": {},
   "source": [
    "#### Encoding BS Column"
   ]
  },
  {
   "cell_type": "code",
   "execution_count": 12,
   "id": "b1d8a968-4417-4479-b3cf-12803a0da3eb",
   "metadata": {},
   "outputs": [],
   "source": [
    "encoder = LeaveOneOutEncoder()\n",
    "energy['BS Encoded'] = encoder.fit_transform(energy['BS'], energy['Energy'])"
   ]
  },
  {
   "cell_type": "code",
   "execution_count": 13,
   "id": "9d7756cd-a9b7-4833-ba3f-b7de5c437654",
   "metadata": {},
   "outputs": [
    {
     "data": {
      "text/html": [
       "<div>\n",
       "<style scoped>\n",
       "    .dataframe tbody tr th:only-of-type {\n",
       "        vertical-align: middle;\n",
       "    }\n",
       "\n",
       "    .dataframe tbody tr th {\n",
       "        vertical-align: top;\n",
       "    }\n",
       "\n",
       "    .dataframe thead th {\n",
       "        text-align: right;\n",
       "    }\n",
       "</style>\n",
       "<table border=\"1\" class=\"dataframe\">\n",
       "  <thead>\n",
       "    <tr style=\"text-align: right;\">\n",
       "      <th></th>\n",
       "      <th>Time</th>\n",
       "      <th>BS</th>\n",
       "      <th>Energy</th>\n",
       "      <th>load</th>\n",
       "      <th>ESMODE</th>\n",
       "      <th>TXpower</th>\n",
       "      <th>Hour</th>\n",
       "      <th>Month</th>\n",
       "      <th>Day</th>\n",
       "      <th>BS Encoded</th>\n",
       "    </tr>\n",
       "  </thead>\n",
       "  <tbody>\n",
       "    <tr>\n",
       "      <th>0</th>\n",
       "      <td>2023-01-01 01:00:00</td>\n",
       "      <td>B_0</td>\n",
       "      <td>64.275037</td>\n",
       "      <td>0.487936</td>\n",
       "      <td>0.0</td>\n",
       "      <td>7.101719</td>\n",
       "      <td>1</td>\n",
       "      <td>1</td>\n",
       "      <td>1</td>\n",
       "      <td>73.170243</td>\n",
       "    </tr>\n",
       "    <tr>\n",
       "      <th>1</th>\n",
       "      <td>2023-01-01 02:00:00</td>\n",
       "      <td>B_0</td>\n",
       "      <td>55.904335</td>\n",
       "      <td>0.344468</td>\n",
       "      <td>0.0</td>\n",
       "      <td>7.101719</td>\n",
       "      <td>2</td>\n",
       "      <td>1</td>\n",
       "      <td>1</td>\n",
       "      <td>73.244982</td>\n",
       "    </tr>\n",
       "    <tr>\n",
       "      <th>2</th>\n",
       "      <td>2023-01-01 03:00:00</td>\n",
       "      <td>B_0</td>\n",
       "      <td>57.698057</td>\n",
       "      <td>0.193766</td>\n",
       "      <td>0.0</td>\n",
       "      <td>7.101719</td>\n",
       "      <td>3</td>\n",
       "      <td>1</td>\n",
       "      <td>1</td>\n",
       "      <td>73.228966</td>\n",
       "    </tr>\n",
       "    <tr>\n",
       "      <th>3</th>\n",
       "      <td>2023-01-01 04:00:00</td>\n",
       "      <td>B_0</td>\n",
       "      <td>55.156951</td>\n",
       "      <td>0.222383</td>\n",
       "      <td>0.0</td>\n",
       "      <td>7.101719</td>\n",
       "      <td>4</td>\n",
       "      <td>1</td>\n",
       "      <td>1</td>\n",
       "      <td>73.251655</td>\n",
       "    </tr>\n",
       "    <tr>\n",
       "      <th>4</th>\n",
       "      <td>2023-01-01 05:00:00</td>\n",
       "      <td>B_0</td>\n",
       "      <td>56.053812</td>\n",
       "      <td>0.175436</td>\n",
       "      <td>0.0</td>\n",
       "      <td>7.101719</td>\n",
       "      <td>5</td>\n",
       "      <td>1</td>\n",
       "      <td>1</td>\n",
       "      <td>73.243647</td>\n",
       "    </tr>\n",
       "  </tbody>\n",
       "</table>\n",
       "</div>"
      ],
      "text/plain": [
       "                 Time   BS     Energy      load  ESMODE   TXpower  Hour  \\\n",
       "0 2023-01-01 01:00:00  B_0  64.275037  0.487936     0.0  7.101719     1   \n",
       "1 2023-01-01 02:00:00  B_0  55.904335  0.344468     0.0  7.101719     2   \n",
       "2 2023-01-01 03:00:00  B_0  57.698057  0.193766     0.0  7.101719     3   \n",
       "3 2023-01-01 04:00:00  B_0  55.156951  0.222383     0.0  7.101719     4   \n",
       "4 2023-01-01 05:00:00  B_0  56.053812  0.175436     0.0  7.101719     5   \n",
       "\n",
       "   Month  Day  BS Encoded  \n",
       "0      1    1   73.170243  \n",
       "1      1    1   73.244982  \n",
       "2      1    1   73.228966  \n",
       "3      1    1   73.251655  \n",
       "4      1    1   73.243647  "
      ]
     },
     "execution_count": 13,
     "metadata": {},
     "output_type": "execute_result"
    }
   ],
   "source": [
    "energy.head()"
   ]
  },
  {
   "cell_type": "markdown",
   "id": "b51b4e58-8608-4f45-9bcd-4d121ec2b541",
   "metadata": {},
   "source": [
    "## Correlation Matrix"
   ]
  },
  {
   "cell_type": "code",
   "execution_count": 14,
   "id": "5d297cab-b21b-4230-8d1f-d71d2a292817",
   "metadata": {},
   "outputs": [
    {
     "data": {
      "text/html": [
       "<div>\n",
       "<style scoped>\n",
       "    .dataframe tbody tr th:only-of-type {\n",
       "        vertical-align: middle;\n",
       "    }\n",
       "\n",
       "    .dataframe tbody tr th {\n",
       "        vertical-align: top;\n",
       "    }\n",
       "\n",
       "    .dataframe thead th {\n",
       "        text-align: right;\n",
       "    }\n",
       "</style>\n",
       "<table border=\"1\" class=\"dataframe\">\n",
       "  <thead>\n",
       "    <tr style=\"text-align: right;\">\n",
       "      <th></th>\n",
       "      <th>Time</th>\n",
       "      <th>Energy</th>\n",
       "      <th>load</th>\n",
       "      <th>ESMODE</th>\n",
       "      <th>TXpower</th>\n",
       "      <th>Hour</th>\n",
       "      <th>Month</th>\n",
       "      <th>Day</th>\n",
       "      <th>BS Encoded</th>\n",
       "    </tr>\n",
       "  </thead>\n",
       "  <tbody>\n",
       "    <tr>\n",
       "      <th>Time</th>\n",
       "      <td>1.000000</td>\n",
       "      <td>0.030404</td>\n",
       "      <td>0.066937</td>\n",
       "      <td>-0.032436</td>\n",
       "      <td>-0.038777</td>\n",
       "      <td>0.132592</td>\n",
       "      <td>NaN</td>\n",
       "      <td>0.987834</td>\n",
       "      <td>0.011958</td>\n",
       "    </tr>\n",
       "    <tr>\n",
       "      <th>Energy</th>\n",
       "      <td>0.030404</td>\n",
       "      <td>1.000000</td>\n",
       "      <td>0.643022</td>\n",
       "      <td>-0.271783</td>\n",
       "      <td>0.450760</td>\n",
       "      <td>0.203709</td>\n",
       "      <td>NaN</td>\n",
       "      <td>-0.001294</td>\n",
       "      <td>0.923300</td>\n",
       "    </tr>\n",
       "    <tr>\n",
       "      <th>load</th>\n",
       "      <td>0.066937</td>\n",
       "      <td>0.643022</td>\n",
       "      <td>1.000000</td>\n",
       "      <td>-0.208473</td>\n",
       "      <td>0.200221</td>\n",
       "      <td>0.323958</td>\n",
       "      <td>NaN</td>\n",
       "      <td>0.016688</td>\n",
       "      <td>0.486274</td>\n",
       "    </tr>\n",
       "    <tr>\n",
       "      <th>ESMODE</th>\n",
       "      <td>-0.032436</td>\n",
       "      <td>-0.271783</td>\n",
       "      <td>-0.208473</td>\n",
       "      <td>1.000000</td>\n",
       "      <td>0.060017</td>\n",
       "      <td>-0.234626</td>\n",
       "      <td>NaN</td>\n",
       "      <td>0.004096</td>\n",
       "      <td>-0.138220</td>\n",
       "    </tr>\n",
       "    <tr>\n",
       "      <th>TXpower</th>\n",
       "      <td>-0.038777</td>\n",
       "      <td>0.450760</td>\n",
       "      <td>0.200221</td>\n",
       "      <td>0.060017</td>\n",
       "      <td>1.000000</td>\n",
       "      <td>0.000630</td>\n",
       "      <td>NaN</td>\n",
       "      <td>-0.039210</td>\n",
       "      <td>0.487278</td>\n",
       "    </tr>\n",
       "    <tr>\n",
       "      <th>Hour</th>\n",
       "      <td>0.132592</td>\n",
       "      <td>0.203709</td>\n",
       "      <td>0.323958</td>\n",
       "      <td>-0.234626</td>\n",
       "      <td>0.000630</td>\n",
       "      <td>1.000000</td>\n",
       "      <td>NaN</td>\n",
       "      <td>-0.023159</td>\n",
       "      <td>0.000269</td>\n",
       "    </tr>\n",
       "    <tr>\n",
       "      <th>Month</th>\n",
       "      <td>NaN</td>\n",
       "      <td>NaN</td>\n",
       "      <td>NaN</td>\n",
       "      <td>NaN</td>\n",
       "      <td>NaN</td>\n",
       "      <td>NaN</td>\n",
       "      <td>NaN</td>\n",
       "      <td>NaN</td>\n",
       "      <td>NaN</td>\n",
       "    </tr>\n",
       "    <tr>\n",
       "      <th>Day</th>\n",
       "      <td>0.987834</td>\n",
       "      <td>-0.001294</td>\n",
       "      <td>0.016688</td>\n",
       "      <td>0.004096</td>\n",
       "      <td>-0.039210</td>\n",
       "      <td>-0.023159</td>\n",
       "      <td>NaN</td>\n",
       "      <td>1.000000</td>\n",
       "      <td>0.012019</td>\n",
       "    </tr>\n",
       "    <tr>\n",
       "      <th>BS Encoded</th>\n",
       "      <td>0.011958</td>\n",
       "      <td>0.923300</td>\n",
       "      <td>0.486274</td>\n",
       "      <td>-0.138220</td>\n",
       "      <td>0.487278</td>\n",
       "      <td>0.000269</td>\n",
       "      <td>NaN</td>\n",
       "      <td>0.012019</td>\n",
       "      <td>1.000000</td>\n",
       "    </tr>\n",
       "  </tbody>\n",
       "</table>\n",
       "</div>"
      ],
      "text/plain": [
       "                Time    Energy      load    ESMODE   TXpower      Hour  Month  \\\n",
       "Time        1.000000  0.030404  0.066937 -0.032436 -0.038777  0.132592    NaN   \n",
       "Energy      0.030404  1.000000  0.643022 -0.271783  0.450760  0.203709    NaN   \n",
       "load        0.066937  0.643022  1.000000 -0.208473  0.200221  0.323958    NaN   \n",
       "ESMODE     -0.032436 -0.271783 -0.208473  1.000000  0.060017 -0.234626    NaN   \n",
       "TXpower    -0.038777  0.450760  0.200221  0.060017  1.000000  0.000630    NaN   \n",
       "Hour        0.132592  0.203709  0.323958 -0.234626  0.000630  1.000000    NaN   \n",
       "Month            NaN       NaN       NaN       NaN       NaN       NaN    NaN   \n",
       "Day         0.987834 -0.001294  0.016688  0.004096 -0.039210 -0.023159    NaN   \n",
       "BS Encoded  0.011958  0.923300  0.486274 -0.138220  0.487278  0.000269    NaN   \n",
       "\n",
       "                 Day  BS Encoded  \n",
       "Time        0.987834    0.011958  \n",
       "Energy     -0.001294    0.923300  \n",
       "load        0.016688    0.486274  \n",
       "ESMODE      0.004096   -0.138220  \n",
       "TXpower    -0.039210    0.487278  \n",
       "Hour       -0.023159    0.000269  \n",
       "Month            NaN         NaN  \n",
       "Day         1.000000    0.012019  \n",
       "BS Encoded  0.012019    1.000000  "
      ]
     },
     "execution_count": 14,
     "metadata": {},
     "output_type": "execute_result"
    }
   ],
   "source": [
    "corr = energy.drop(columns = ['BS']).corr()\n",
    "corr"
   ]
  },
  {
   "cell_type": "markdown",
   "id": "41aeff5e-5655-43ff-a7f1-0f0664566372",
   "metadata": {},
   "source": [
    "Features to Select \n",
    " - Load : with a correlation of 0.643022 is a moderately strong correlation\n",
    " - TXPower : with a correlation of 0.450760 is a moderate correlation\n",
    " - Hour : with a correlation of 0.203709 althogh is is weakly positive it can still be used\n",
    " - BS Encoded : woth the stromgesr correlation of 0.923300 is definately a factor when choosing Features"
   ]
  },
  {
   "cell_type": "markdown",
   "id": "2fcf5c1e-dce3-4b9a-ab37-5bceed7cdbc0",
   "metadata": {},
   "source": [
    "### Splitting My Data"
   ]
  },
  {
   "cell_type": "code",
   "execution_count": 15,
   "id": "0e48891c-776a-4eed-a97b-9d0149d56b94",
   "metadata": {},
   "outputs": [],
   "source": [
    "X = energy.drop(columns = ['Time', 'BS', 'ESMODE', 'Month', 'Day', 'Energy'])\n",
    "y = energy['Energy']"
   ]
  },
  {
   "cell_type": "code",
   "execution_count": 16,
   "id": "1e9d3c40-44b8-4090-a256-40ea9035a5b6",
   "metadata": {},
   "outputs": [],
   "source": [
    "X_train, X_test, y_train, y_test = train_test_split(X, y, test_size = 0.30, random_state = 42)"
   ]
  },
  {
   "cell_type": "markdown",
   "id": "2c38e0b0-ca6c-47f0-8b64-c0fc777d4765",
   "metadata": {},
   "source": [
    "Using Randomized Search to pick out my Best Hyperparameters and models based on a list of models"
   ]
  },
  {
   "cell_type": "code",
   "execution_count": 17,
   "id": "6097e3bf-c45a-4920-9347-be7d8d30469a",
   "metadata": {},
   "outputs": [],
   "source": [
    "model_params = {\n",
    "    'GradientBoostingRegressor' : {\n",
    "        'model' : GradientBoostingRegressor(),\n",
    "        'params' : {\n",
    "            'n_estimators' : randint(100, 200),\n",
    "            'max_depth' : randint(3, 10),\n",
    "            'learning_rate' : uniform(0.01, 0.2)\n",
    "                                     \n",
    "            }\n",
    "        },\n",
    "\n",
    "    'svr' : {\n",
    "        'model' : SVR(),\n",
    "        'params' : {\n",
    "            'C' : uniform(10, 100),\n",
    "            'kernel' : ['linear', 'rbf', 'poly', 'sigmoid'],\n",
    "            'gamma' : ['scale'],\n",
    "          \n",
    "        }\n",
    "    }\n",
    "}\n",
    "    \n"
   ]
  },
  {
   "cell_type": "code",
   "execution_count": null,
   "id": "9cbfc81c-3b80-4114-a809-8d2277adfc85",
   "metadata": {},
   "outputs": [
    {
     "name": "stdout",
     "output_type": "stream",
     "text": [
      " Running randome Search For GradientBoostingRegressor\n",
      "The Best Parameters for GradientBoostingRegressor : {'learning_rate': 0.10672687983266597, 'max_depth': 9, 'n_estimators': 178}\n",
      "The Best Score for GradientBoostingRegressor : 0.9766344085737529\n",
      " Running randome Search For svr\n"
     ]
    }
   ],
   "source": [
    "for model_name, mp in model_params.items() :\n",
    "    print(f' Running randome Search For {model_name}')\n",
    "    random_search = RandomizedSearchCV( mp['model'], mp['params'], cv = 3, n_iter = 10, n_jobs = -1, error_score = 'raise')\n",
    "    random_search.fit(X_train,y_train)\n",
    "    \n",
    "    print(f'The Best Parameters for {model_name} : {random_search.best_params_}')\n",
    "    print(f'The Best Score for {model_name} : {random_search.best_score_}')\n",
    "    \n",
    "    "
   ]
  },
  {
   "cell_type": "code",
   "execution_count": null,
   "id": "a109c6f7-4aa1-4540-8c66-b41dc76d305f",
   "metadata": {},
   "outputs": [],
   "source": []
  },
  {
   "cell_type": "code",
   "execution_count": null,
   "id": "3b2473c0-cbf3-4517-809d-c50e8acf2e0e",
   "metadata": {},
   "outputs": [],
   "source": []
  }
 ],
 "metadata": {
  "kernelspec": {
   "display_name": "Python 3 (ipykernel)",
   "language": "python",
   "name": "python3"
  },
  "language_info": {
   "codemirror_mode": {
    "name": "ipython",
    "version": 3
   },
   "file_extension": ".py",
   "mimetype": "text/x-python",
   "name": "python",
   "nbconvert_exporter": "python",
   "pygments_lexer": "ipython3",
   "version": "3.11.7"
  }
 },
 "nbformat": 4,
 "nbformat_minor": 5
}
